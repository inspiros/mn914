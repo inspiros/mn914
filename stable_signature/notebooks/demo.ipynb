{
 "cells": [
  {
   "cell_type": "markdown",
   "metadata": {},
   "source": "# Demo of Stable Signature DCGAN on MNIST dataset"
  },
  {
   "cell_type": "markdown",
   "metadata": {},
   "source": [
    "Imports"
   ]
  },
  {
   "cell_type": "code",
   "metadata": {
    "ExecuteTime": {
     "end_time": "2025-03-24T11:21:16.064237Z",
     "start_time": "2025-03-24T11:21:03.033981Z"
    }
   },
   "source": [
    "import os.path\n",
    "from copy import deepcopy\n",
    "\n",
    "import matplotlib.pyplot as plt\n",
    "import numpy as np\n",
    "import torch\n",
    "from skimage.metrics import peak_signal_noise_ratio\n",
    "from torchvision import transforms\n",
    "\n",
    "from hidden.models import HiddenDecoder\n",
    "from stable_signature.models.dcgan import Generator"
   ],
   "outputs": [
    {
     "name": "stderr",
     "output_type": "stream",
     "text": [
      "C:\\Python\\Python312\\Lib\\site-packages\\tqdm\\auto.py:21: TqdmWarning: IProgress not found. Please update jupyter and ipywidgets. See https://ipywidgets.readthedocs.io/en/stable/user_install.html\n",
      "  from .autonotebook import tqdm as notebook_tqdm\n"
     ]
    }
   ],
   "execution_count": 1
  },
  {
   "cell_type": "code",
   "metadata": {
    "ExecuteTime": {
     "end_time": "2025-03-24T11:23:09.405295Z",
     "start_time": "2025-03-24T11:23:09.374900Z"
    }
   },
   "source": [
    "from argparse import Namespace\n",
    "\n",
    "params = Namespace(\n",
    "    encoder_depth=4, encoder_channels=64, decoder_depth=8, decoder_channels=64, num_bits=32,\n",
    "    z_dim=100, device='cuda'\n",
    ")\n",
    "params.device = torch.device(params.device)\n",
    "\n",
    "G0 = Generator(1, params.z_dim)\n",
    "G = deepcopy(G0)\n",
    "\n",
    "decoder = HiddenDecoder(\n",
    "    num_blocks=params.decoder_depth,\n",
    "    num_bits=params.num_bits,\n",
    "    channels=params.decoder_channels,\n",
    "    in_channels=1,\n",
    ")"
   ],
   "outputs": [],
   "execution_count": 5
  },
  {
   "cell_type": "code",
   "metadata": {
    "ExecuteTime": {
     "end_time": "2025-03-24T11:23:12.111198Z",
     "start_time": "2025-03-24T11:23:11.765141Z"
    }
   },
   "source": [
    "project_root = os.path.dirname(os.path.dirname(os.path.abspath('')))\n",
    "\n",
    "# load_state_dict\n",
    "G0.load_state_dict(torch.load(\n",
    "    os.path.join(project_root, 'ckpts/dcgan_generator_mnist.pth'), weights_only=False, map_location='cpu'))\n",
    "G0.to(params.device).eval()\n",
    "\n",
    "G.load_state_dict(torch.load(\n",
    "    os.path.join(project_root, 'stable_signature/outputs/mnist_attack/checkpoint_000.pth'), weights_only=False, map_location='cpu')['generator'])\n",
    "G.to(params.device).eval()\n",
    "with open(os.path.join(project_root, 'stable_signature/outputs/mnist_attack/keys.txt'), 'r') as f:\n",
    "    # read key\n",
    "    G_key = f.readline().strip().split()[-1]\n",
    "\n",
    "state_dict = torch.load(os.path.join(project_root, 'ckpts/hidden_mnist_unet.pth'), weights_only=False, map_location='cpu')[\n",
    "    'encoder_decoder']\n",
    "decoder_state_dict = {k.replace('module.', '').replace('decoder.', ''): v for k, v in state_dict.items() if 'decoder' in k}\n",
    "decoder.load_state_dict(decoder_state_dict)\n",
    "decoder.to(params.device).eval()"
   ],
   "outputs": [
    {
     "data": {
      "text/plain": [
       "HiddenDecoder(\n",
       "  (layers): Sequential(\n",
       "    (0): ConvBNRelu2d(\n",
       "      (layers): Sequential(\n",
       "        (0): Conv2d(1, 64, kernel_size=(3, 3), stride=(1, 1), padding=(1, 1))\n",
       "        (1): BatchNorm2d(64, eps=0.001, momentum=0.1, affine=True, track_running_stats=True)\n",
       "        (2): GELU(approximate='none')\n",
       "      )\n",
       "    )\n",
       "    (1): ConvBNRelu2d(\n",
       "      (layers): Sequential(\n",
       "        (0): Conv2d(64, 64, kernel_size=(3, 3), stride=(1, 1), padding=(1, 1))\n",
       "        (1): BatchNorm2d(64, eps=0.001, momentum=0.1, affine=True, track_running_stats=True)\n",
       "        (2): GELU(approximate='none')\n",
       "      )\n",
       "    )\n",
       "    (2): ConvBNRelu2d(\n",
       "      (layers): Sequential(\n",
       "        (0): Conv2d(64, 64, kernel_size=(3, 3), stride=(1, 1), padding=(1, 1))\n",
       "        (1): BatchNorm2d(64, eps=0.001, momentum=0.1, affine=True, track_running_stats=True)\n",
       "        (2): GELU(approximate='none')\n",
       "      )\n",
       "    )\n",
       "    (3): ConvBNRelu2d(\n",
       "      (layers): Sequential(\n",
       "        (0): Conv2d(64, 64, kernel_size=(3, 3), stride=(1, 1), padding=(1, 1))\n",
       "        (1): BatchNorm2d(64, eps=0.001, momentum=0.1, affine=True, track_running_stats=True)\n",
       "        (2): GELU(approximate='none')\n",
       "      )\n",
       "    )\n",
       "    (4): ConvBNRelu2d(\n",
       "      (layers): Sequential(\n",
       "        (0): Conv2d(64, 64, kernel_size=(3, 3), stride=(1, 1), padding=(1, 1))\n",
       "        (1): BatchNorm2d(64, eps=0.001, momentum=0.1, affine=True, track_running_stats=True)\n",
       "        (2): GELU(approximate='none')\n",
       "      )\n",
       "    )\n",
       "    (5): ConvBNRelu2d(\n",
       "      (layers): Sequential(\n",
       "        (0): Conv2d(64, 64, kernel_size=(3, 3), stride=(1, 1), padding=(1, 1))\n",
       "        (1): BatchNorm2d(64, eps=0.001, momentum=0.1, affine=True, track_running_stats=True)\n",
       "        (2): GELU(approximate='none')\n",
       "      )\n",
       "    )\n",
       "    (6): ConvBNRelu2d(\n",
       "      (layers): Sequential(\n",
       "        (0): Conv2d(64, 64, kernel_size=(3, 3), stride=(1, 1), padding=(1, 1))\n",
       "        (1): BatchNorm2d(64, eps=0.001, momentum=0.1, affine=True, track_running_stats=True)\n",
       "        (2): GELU(approximate='none')\n",
       "      )\n",
       "    )\n",
       "    (7): ConvBNRelu2d(\n",
       "      (layers): Sequential(\n",
       "        (0): Conv2d(64, 64, kernel_size=(3, 3), stride=(1, 1), padding=(1, 1))\n",
       "        (1): BatchNorm2d(64, eps=0.001, momentum=0.1, affine=True, track_running_stats=True)\n",
       "        (2): GELU(approximate='none')\n",
       "      )\n",
       "    )\n",
       "    (8): ConvBNRelu2d(\n",
       "      (layers): Sequential(\n",
       "        (0): Conv2d(64, 32, kernel_size=(3, 3), stride=(1, 1), padding=(1, 1))\n",
       "        (1): BatchNorm2d(32, eps=0.001, momentum=0.1, affine=True, track_running_stats=True)\n",
       "        (2): GELU(approximate='none')\n",
       "      )\n",
       "    )\n",
       "    (9): AdaptiveAvgPool2d(output_size=(1, 1))\n",
       "  )\n",
       "  (linear): Linear(in_features=32, out_features=32, bias=True)\n",
       ")"
      ]
     },
     "execution_count": 6,
     "metadata": {},
     "output_type": "execute_result"
    }
   ],
   "execution_count": 6
  },
  {
   "metadata": {},
   "cell_type": "markdown",
   "source": "### Generate Images"
  },
  {
   "metadata": {
    "ExecuteTime": {
     "end_time": "2025-03-24T11:24:00.755071Z",
     "start_time": "2025-03-24T11:24:00.752181Z"
    }
   },
   "cell_type": "code",
   "source": [
    "to_img = transforms.Compose([\n",
    "    transforms.Normalize(mean=(-1.,), std=[2.0, ]),\n",
    "    transforms.Lambda(lambda x: x.detach().cpu().squeeze(0)),\n",
    "    transforms.ToPILImage(),\n",
    "])"
   ],
   "outputs": [],
   "execution_count": 11
  },
  {
   "metadata": {
    "ExecuteTime": {
     "end_time": "2025-03-24T11:24:12.993734Z",
     "start_time": "2025-03-24T11:24:12.959799Z"
    }
   },
   "cell_type": "code",
   "source": [
    "# generate random image\n",
    "z = torch.randn(1, params.z_dim, 1, 1, device=params.device)\n",
    "x0 = G0(z)\n",
    "img = to_img(x0)\n",
    "\n",
    "# visualize\n",
    "fig, ax = plt.subplots(figsize=(4, 4))\n",
    "ax.imshow(np.asarray(img), cmap='gray', vmin=0, vmax=255)\n",
    "ax.grid('off')\n",
    "ax.set_xticks([])\n",
    "ax.set_yticks([])\n",
    "ax.set_title('$x_0$')\n",
    "\n",
    "fig.tight_layout()\n",
    "plt.show()"
   ],
   "outputs": [
    {
     "data": {
      "text/plain": [
       "<Figure size 400x400 with 1 Axes>"
      ],
      "image/png": "[encoded data removed]"
     },
     "metadata": {},
     "output_type": "display_data"
    }
   ],
   "execution_count": 14
  },
  {
   "cell_type": "markdown",
   "metadata": {},
   "source": [
    "### Tests"
   ]
  },
  {
   "metadata": {
    "ExecuteTime": {
     "end_time": "2025-03-24T14:04:00.368203Z",
     "start_time": "2025-03-24T14:04:00.249128Z"
    }
   },
   "cell_type": "code",
   "source": [
    "from termcolor import colored\n",
    "\n",
    "\n",
    "def msg2str(m: torch.Tensor) -> str:\n",
    "    return ''.join([('1' if el else '0') for el in m.detach().cpu().bool()])\n",
    "\n",
    "\n",
    "def str2msg(m_str: str, device=None) -> torch.Tensor:\n",
    "    return torch.tensor([True if el == '1' else False for el in m_str], device=device)\n",
    "\n",
    "\n",
    "def colored_repr(k_hat, k):\n",
    "    return ''.join([colored(k_hat[i], 'green' if k_hat[i] == k[i] else 'red') for i in range(len(k))])\n",
    "\n",
    "\n",
    "m_ori = torch.tensor(list(map(int, G_key)), dtype=torch.bool, device=params.device)"
   ],
   "outputs": [],
   "execution_count": 39
  },
  {
   "cell_type": "code",
   "metadata": {
    "ExecuteTime": {
     "end_time": "2025-03-25T04:12:55.185958Z",
     "start_time": "2025-03-25T04:12:54.579926Z"
    }
   },
   "source": [
    "# load random image\n",
    "z = torch.randn(1, params.z_dim, 1, 1, device=params.device)\n",
    "x0 = G0(z)\n",
    "img = to_img(x0)\n",
    "\n",
    "# encode\n",
    "x_w = G(z)\n",
    "img_w = to_img(x_w)\n",
    "\n",
    "# psnr\n",
    "psnr = peak_signal_noise_ratio(np.asarray(img), np.asarray(img_w))\n",
    "print(f'PSNR: {psnr:.05f}')\n",
    "\n",
    "# decode\n",
    "m_hat = decoder(x_w)\n",
    "m_decoded = m_hat > 0  # b k -> b k\n",
    "print(f'Message: {G_key}')\n",
    "print(f'Decoded: {colored_repr(msg2str(m_decoded.squeeze(0)), G_key)}')\n",
    "print(f'Bit Accuracy: {torch.eq(m_decoded, m_ori).sum().item() / params.num_bits:.05f}')\n",
    "\n",
    "# visualize\n",
    "fig, axes = plt.subplots(1, 3, figsize=(12, 4))\n",
    "axes = axes.flatten()\n",
    "axes[0].imshow(np.asarray(img), cmap='gray', vmin=0, vmax=255)\n",
    "axes[0].grid('off')\n",
    "axes[0].set_xticks([])\n",
    "axes[0].set_yticks([])\n",
    "axes[0].set_title('$x_0$')\n",
    "\n",
    "axes[1].imshow(np.asarray(img_w), cmap='gray', vmin=0, vmax=255)\n",
    "axes[1].grid('off')\n",
    "axes[1].set_xticks([])\n",
    "axes[1].set_yticks([])\n",
    "axes[1].set_title('$x_w$')\n",
    "\n",
    "magnitude = 1\n",
    "diff_img = np.abs(np.asarray(img).astype(int) - np.asarray(img_w).astype(int)) * magnitude\n",
    "diff_img = np.clip(diff_img, 0, 255).astype(np.uint8)\n",
    "axes[2].imshow(diff_img, cmap='gray', vmin=0, vmax=255)\n",
    "axes[2].grid('off')\n",
    "axes[2].set_xticks([])\n",
    "axes[2].set_yticks([])\n",
    "axes[2].set_title(f'${magnitude}|x_0 - x_w|$')\n",
    "\n",
    "fig.tight_layout()\n",
    "plt.show()"
   ],
   "outputs": [
    {
     "name": "stdout",
     "output_type": "stream",
     "text": [
      "PSNR: 21.31201\n",
      "Message: 11101011010100000101011101001101\n",
      "Decoded: \u001B[32m1\u001B[0m\u001B[32m1\u001B[0m\u001B[32m1\u001B[0m\u001B[32m0\u001B[0m\u001B[32m1\u001B[0m\u001B[32m0\u001B[0m\u001B[32m1\u001B[0m\u001B[32m1\u001B[0m\u001B[32m0\u001B[0m\u001B[32m1\u001B[0m\u001B[32m0\u001B[0m\u001B[32m1\u001B[0m\u001B[32m0\u001B[0m\u001B[32m0\u001B[0m\u001B[32m0\u001B[0m\u001B[32m0\u001B[0m\u001B[32m0\u001B[0m\u001B[32m1\u001B[0m\u001B[31m1\u001B[0m\u001B[32m1\u001B[0m\u001B[32m0\u001B[0m\u001B[32m1\u001B[0m\u001B[32m1\u001B[0m\u001B[32m1\u001B[0m\u001B[32m0\u001B[0m\u001B[32m1\u001B[0m\u001B[32m0\u001B[0m\u001B[32m0\u001B[0m\u001B[32m1\u001B[0m\u001B[32m1\u001B[0m\u001B[32m0\u001B[0m\u001B[32m1\u001B[0m\n",
      "Bit Accuracy: 0.96875\n"
     ]
    },
    {
     "data": {
      "text/plain": [
       "<Figure size 1200x400 with 3 Axes>"
      ],
      "image/png": "[encoded data removed]"
     },
     "metadata": {},
     "output_type": "display_data"
    }
   ],
   "execution_count": 44
  }
 ],
 "metadata": {
  "kernelspec": {
   "display_name": "stablesign",
   "language": "python",
   "name": "python3"
  },
  "language_info": {
   "codemirror_mode": {
    "name": "ipython",
    "version": 3
   },
   "file_extension": ".py",
   "mimetype": "text/x-python",
   "name": "python",
   "nbconvert_exporter": "python",
   "pygments_lexer": "ipython3",
   "version": "3.10.10"
  },
  "orig_nbformat": 4
 },
 "nbformat": 4,
 "nbformat_minor": 2
}
