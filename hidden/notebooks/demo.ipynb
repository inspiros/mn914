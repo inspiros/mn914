{
 "cells": [
  {
   "cell_type": "markdown",
   "metadata": {},
   "source": [
    "Copyright (c) Meta Platforms, Inc. and affiliates.\n",
    "All rights reserved.\n",
    "\n",
    "This source code is licensed under the license found in the\n",
    "LICENSE file in the root directory of this source tree.\n",
    "\n",
    "The project is CC-BY-NC licensed, as found in the LICENSE file of the github."
   ]
  },
  {
   "cell_type": "markdown",
   "metadata": {},
   "source": "# Demo of image watermarking with pre-trained HiDDeN model on MNIST dataset"
  },
  {
   "cell_type": "markdown",
   "metadata": {},
   "source": [
    "Imports"
   ]
  },
  {
   "cell_type": "code",
   "metadata": {
    "ExecuteTime": {
     "end_time": "2025-01-23T20:45:30.290135Z",
     "start_time": "2025-01-23T20:45:19.177749Z"
    }
   },
   "source": [
    "import matplotlib.pyplot as plt\n",
    "import numpy as np\n",
    "import torch\n",
    "from PIL import Image\n",
    "from skimage.metrics import peak_signal_noise_ratio\n",
    "from torchvision import transforms\n",
    "\n",
    "from hidden.models import HiddenEncoder, HiddenDecoder, EncoderWithJND\n",
    "from hidden.models.attenuations import JND"
   ],
   "outputs": [
    {
     "name": "stderr",
     "output_type": "stream",
     "text": [
      "C:\\Python\\Python312\\Lib\\site-packages\\tqdm\\auto.py:21: TqdmWarning: IProgress not found. Please update jupyter and ipywidgets. See https://ipywidgets.readthedocs.io/en/stable/user_install.html\n",
      "  from .autonotebook import tqdm as notebook_tqdm\n"
     ]
    }
   ],
   "execution_count": 1
  },
  {
   "cell_type": "code",
   "metadata": {
    "ExecuteTime": {
     "end_time": "2025-01-23T20:45:30.296939Z",
     "start_time": "2025-01-23T20:45:30.293945Z"
    }
   },
   "source": [
    "def msg2str(m: torch.Tensor) -> str:\n",
    "    return ''.join([('1' if el else '0') for el in m.detach().cpu().bool()])\n",
    "\n",
    "\n",
    "def str2msg(m_str: str, device=None) -> torch.Tensor:\n",
    "    return torch.tensor([True if el == '1' else False for el in m_str], device=device)"
   ],
   "outputs": [],
   "execution_count": 2
  },
  {
   "cell_type": "markdown",
   "metadata": {},
   "source": [
    "### Build models and load weights\n",
    "\n",
    "The watermark signal can be rescaled with a factor `scaling_w`.\n",
    "\n",
    "We use the just noticeable difference (JND) heatmap presented in https://github.com/facebookresearch/active_indexing to mask the watermark signal in areas where the eye is sensitive to changes.\n",
    "This allows to impose perceptual constraint, in case we want to use the trained encoder to watermark images."
   ]
  },
  {
   "cell_type": "code",
   "metadata": {
    "ExecuteTime": {
     "end_time": "2025-01-23T20:45:30.588061Z",
     "start_time": "2025-01-23T20:45:30.579352Z"
    }
   },
   "source": [
    "from argparse import Namespace\n",
    "\n",
    "NORMALIZE_MNIST = transforms.Normalize(mean=(0.1307,), std=(0.3081,))\n",
    "DENORMALIZE_MNIST = transforms.Normalize(mean=(-0.1307 / 0.3081,), std=(1 / 0.3081,))\n",
    "default_transform = transforms.Compose([transforms.ToTensor(), NORMALIZE_MNIST])\n",
    "\n",
    "params = Namespace(\n",
    "    encoder_depth=4, encoder_channels=64, decoder_depth=8, decoder_channels=64, num_bits=16,\n",
    "    attenuation='none', scale_channels=False, scaling_i=1.0, scaling_w=0.3,\n",
    "    device='cuda'\n",
    ")\n",
    "params.device = torch.device(params.device)\n",
    "\n",
    "decoder = HiddenDecoder(\n",
    "    num_blocks=params.decoder_depth,\n",
    "    num_bits=params.num_bits,\n",
    "    channels=params.decoder_channels,\n",
    "    in_channels=1,\n",
    ")\n",
    "encoder = HiddenEncoder(\n",
    "    num_blocks=params.encoder_depth,\n",
    "    num_bits=params.num_bits,\n",
    "    channels=params.encoder_channels,\n",
    "    in_channels=1,\n",
    ")\n",
    "attenuation = JND(preprocess=DENORMALIZE_MNIST) if params.attenuation == 'jnd' else None\n",
    "encoder_with_jnd = EncoderWithJND(\n",
    "    encoder, attenuation, params.scale_channels, params.scaling_i, params.scaling_w\n",
    ")"
   ],
   "outputs": [],
   "execution_count": 3
  },
  {
   "cell_type": "code",
   "metadata": {
    "ExecuteTime": {
     "end_time": "2025-01-23T20:46:41.383973Z",
     "start_time": "2025-01-23T20:46:41.364635Z"
    }
   },
   "source": [
    "ckpt_path = '../outputs/checkpoint.pth'\n",
    "\n",
    "# load_state_dict\n",
    "state_dict = torch.load(ckpt_path, weights_only=False, map_location='cpu')['encoder_decoder']\n",
    "encoder_decoder_state_dict = {k.replace('module.', ''): v for k, v in state_dict.items()}\n",
    "encoder_state_dict = {k.replace('encoder.', ''): v for k, v in encoder_decoder_state_dict.items() if 'encoder' in k}\n",
    "decoder_state_dict = {k.replace('decoder.', ''): v for k, v in encoder_decoder_state_dict.items() if 'decoder' in k}\n",
    "\n",
    "encoder.load_state_dict(encoder_state_dict)\n",
    "decoder.load_state_dict(decoder_state_dict)\n",
    "\n",
    "decoder = decoder.to(params.device).eval()\n",
    "encoder_with_jnd = encoder_with_jnd.to(params.device).eval()"
   ],
   "outputs": [],
   "execution_count": 9
  },
  {
   "metadata": {},
   "cell_type": "markdown",
   "source": "### Load Images"
  },
  {
   "metadata": {
    "ExecuteTime": {
     "end_time": "2025-01-23T20:47:16.432440Z",
     "start_time": "2025-01-23T20:47:16.420169Z"
    }
   },
   "cell_type": "code",
   "source": [
    "from torchvision.datasets import MNIST\n",
    "\n",
    "dataset = MNIST(root='../data', train=False, download=False, transform=default_transform)\n",
    "print(f'Dataset size: {len(dataset)}')\n",
    "\n",
    "to_img = transforms.Compose([\n",
    "    DENORMALIZE_MNIST,\n",
    "    transforms.Lambda(lambda x: x.detach().cpu().squeeze(0)),\n",
    "    transforms.ToPILImage(),\n",
    "])"
   ],
   "outputs": [
    {
     "name": "stdout",
     "output_type": "stream",
     "text": [
      "Dataset size: 10000\n"
     ]
    }
   ],
   "execution_count": 10
  },
  {
   "metadata": {
    "ExecuteTime": {
     "end_time": "2025-01-23T20:47:17.928575Z",
     "start_time": "2025-01-23T20:47:17.897264Z"
    }
   },
   "cell_type": "code",
   "source": [
    "# load random image\n",
    "id = torch.randint(0, len(dataset), (1,)).item()\n",
    "print(f'Loading image {id}')\n",
    "x = dataset[id][0].unsqueeze(0)\n",
    "img = to_img(x)\n",
    "\n",
    "# visualize\n",
    "fig, ax = plt.subplots(figsize=(4, 4))\n",
    "ax.imshow(np.asarray(img), cmap='gray', vmin=0, vmax=255)\n",
    "ax.grid('off')\n",
    "ax.set_xticks([])\n",
    "ax.set_yticks([])\n",
    "ax.set_title('$x$')\n",
    "\n",
    "fig.tight_layout()\n",
    "plt.show()"
   ],
   "outputs": [
    {
     "name": "stdout",
     "output_type": "stream",
     "text": [
      "Loading image 9628\n"
     ]
    },
    {
     "data": {
      "text/plain": [
       "<Figure size 400x400 with 1 Axes>"
      ],
      "image/png": "[encoded data removed]"
     },
     "metadata": {},
     "output_type": "display_data"
    }
   ],
   "execution_count": 11
  },
  {
   "cell_type": "markdown",
   "metadata": {},
   "source": [
    "### Tests"
   ]
  },
  {
   "cell_type": "code",
   "metadata": {
    "ExecuteTime": {
     "end_time": "2025-01-23T21:44:26.990275Z",
     "start_time": "2025-01-23T21:44:26.855478Z"
    }
   },
   "source": [
    "# load random image\n",
    "id = torch.randint(0, len(dataset), (1,)).item()\n",
    "x0, y = dataset[id]\n",
    "x0 = x0.unsqueeze(0).to(params.device)\n",
    "print(f'Image {id} - {y}')\n",
    "img = to_img(x0)\n",
    "\n",
    "# create message\n",
    "random_msg = True\n",
    "if random_msg:\n",
    "    m_ori = torch.bernoulli(torch.full((x0.size(0), params.num_bits), 0.5, device=params.device)).bool()  # b k\n",
    "else:\n",
    "    m_ori = str2msg('1110101101010001', device=params.device).unsqueeze(0)\n",
    "# cast to -1/1\n",
    "m = 2 * m_ori.to(torch.float) - 1  # b k\n",
    "\n",
    "# encode\n",
    "x_w = encoder_with_jnd(x0, m)\n",
    "# img_w = to_img(torch.round(255 * torch.clamp(DENORMALIZE_MNIST(x_w), 0, 1)) / 255)\n",
    "img_w = Image.fromarray(DENORMALIZE_MNIST(x_w.squeeze(0)).squeeze().mul(255).add_(0.5).clamp_(0, 255).to('cpu', torch.uint8).numpy(), mode='L')\n",
    "\n",
    "# psnr\n",
    "psnr = peak_signal_noise_ratio(np.asarray(img), np.asarray(img_w))\n",
    "print(f'PSNR: {psnr:.05f}')\n",
    "\n",
    "# decode\n",
    "m_hat = decoder(x_w)\n",
    "m_decoded = m_hat > 0  # b k -> b k\n",
    "print(f'Message: {msg2str(m_ori.squeeze(0))}')\n",
    "print(f'Decoded: {msg2str(m_decoded.squeeze(0))}')\n",
    "print(f'Bit Accuracy: {torch.eq(m_decoded, m_ori).sum().item() / params.num_bits:.05f}')\n",
    "\n",
    "# visualize\n",
    "fig, axes = plt.subplots(1, 3, figsize=(12, 4))\n",
    "axes = axes.flatten()\n",
    "axes[0].imshow(np.asarray(img), cmap='gray', vmin=0, vmax=255)\n",
    "axes[0].grid('off')\n",
    "axes[0].set_xticks([])\n",
    "axes[0].set_yticks([])\n",
    "axes[0].set_title('$x_0$')\n",
    "\n",
    "axes[1].imshow(np.asarray(img_w), cmap='gray', vmin=0, vmax=255)\n",
    "axes[1].grid('off')\n",
    "axes[1].set_xticks([])\n",
    "axes[1].set_yticks([])\n",
    "axes[1].set_title('$x_w$')\n",
    "\n",
    "magnitude = 1\n",
    "diff_img = np.abs(np.asarray(img).astype(int) - np.asarray(img_w).astype(int)) * magnitude\n",
    "diff_img = np.clip(diff_img, 0, 255).astype(np.uint8)\n",
    "axes[2].imshow(diff_img, cmap='gray', vmin=0, vmax=255)\n",
    "axes[2].grid('off')\n",
    "axes[2].set_xticks([])\n",
    "axes[2].set_yticks([])\n",
    "axes[2].set_title(f'${magnitude}|x_0 - x_w|$')\n",
    "\n",
    "fig.tight_layout()\n",
    "plt.show()"
   ],
   "outputs": [
    {
     "name": "stdout",
     "output_type": "stream",
     "text": [
      "Image 7767 - 8\n",
      "PSNR: 25.23893\n",
      "Message: 0010000010111000\n",
      "Decoded: 0000000010111000\n",
      "Bit Accuracy: 0.93750\n"
     ]
    },
    {
     "data": {
      "text/plain": [
       "<Figure size 1200x400 with 3 Axes>"
      ],
      "image/png": "[encoded data removed]"
     },
     "metadata": {},
     "output_type": "display_data"
    }
   ],
   "execution_count": 29
  }
 ],
 "metadata": {
  "kernelspec": {
   "display_name": "stablesign",
   "language": "python",
   "name": "python3"
  },
  "language_info": {
   "codemirror_mode": {
    "name": "ipython",
    "version": 3
   },
   "file_extension": ".py",
   "mimetype": "text/x-python",
   "name": "python",
   "nbconvert_exporter": "python",
   "pygments_lexer": "ipython3",
   "version": "3.10.10"
  },
  "orig_nbformat": 4
 },
 "nbformat": 4,
 "nbformat_minor": 2
}
