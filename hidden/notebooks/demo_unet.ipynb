{
 "cells": [
  {
   "cell_type": "markdown",
   "metadata": {},
   "source": "# Demo of U-Net-based hiding network"
  },
  {
   "cell_type": "code",
   "metadata": {
    "ExecuteTime": {
     "end_time": "2025-03-20T04:42:07.335774Z",
     "start_time": "2025-03-20T04:42:00.444079Z"
    }
   },
   "source": [
    "import os.path\n",
    "\n",
    "import matplotlib.pyplot as plt\n",
    "import numpy as np\n",
    "import torch\n",
    "from PIL import Image\n",
    "from skimage.metrics import peak_signal_noise_ratio\n",
    "from torchvision import transforms\n",
    "\n",
    "from hidden.models import UNetHidingNetwork, HiddenDecoder\n",
    "from hidden.ops.transforms import Normalize, Denormalize"
   ],
   "outputs": [
    {
     "name": "stderr",
     "output_type": "stream",
     "text": [
      "C:\\Python\\Python312\\Lib\\site-packages\\tqdm\\auto.py:21: TqdmWarning: IProgress not found. Please update jupyter and ipywidgets. See https://ipywidgets.readthedocs.io/en/stable/user_install.html\n",
      "  from .autonotebook import tqdm as notebook_tqdm\n"
     ]
    }
   ],
   "execution_count": 2
  },
  {
   "cell_type": "markdown",
   "metadata": {},
   "source": [
    "### Build models and load weights\n",
    "\n",
    "The watermark signal can be rescaled with a factor `scaling_w`.\n",
    "\n",
    "We use the just noticeable difference (JND) heatmap presented in https://github.com/facebookresearch/active_indexing to mask the watermark signal in areas where the eye is sensitive to changes.\n",
    "This allows to impose perceptual constraint, in case we want to use the trained encoder to watermark images."
   ]
  },
  {
   "cell_type": "code",
   "metadata": {
    "ExecuteTime": {
     "end_time": "2025-03-20T04:42:07.416115Z",
     "start_time": "2025-03-20T04:42:07.343414Z"
    }
   },
   "source": [
    "from argparse import Namespace\n",
    "\n",
    "NORMALIZE = Normalize(mean=(0.5, 0.5, 0.5), std=(0.5, 0.5, 0.5))\n",
    "DENORMALIZE = Denormalize(mean=(0.5, 0.5, 0.5), std=(0.5, 0.5, 0.5))\n",
    "default_transform = transforms.Compose([transforms.ToTensor(), NORMALIZE])\n",
    "\n",
    "params = Namespace(\n",
    "    img_channels=3, num_bits=48,\n",
    "    decoder_depth=8, decoder_channels=64,\n",
    "    device='cuda',\n",
    ")\n",
    "params.device = torch.device(params.device)\n",
    "\n",
    "decoder = HiddenDecoder(\n",
    "    num_blocks=params.decoder_depth,\n",
    "    num_bits=params.num_bits,\n",
    "    channels=params.decoder_channels,\n",
    "    in_channels=params.img_channels,\n",
    ")\n",
    "encoder = UNetHidingNetwork(\n",
    "    num_bits=params.num_bits,\n",
    "    in_channels=params.img_channels,\n",
    "    features_level_insertion=False,\n",
    ")"
   ],
   "outputs": [],
   "execution_count": 3
  },
  {
   "cell_type": "code",
   "metadata": {
    "ExecuteTime": {
     "end_time": "2025-03-20T04:42:12.913350Z",
     "start_time": "2025-03-20T04:42:11.867852Z"
    }
   },
   "source": [
    "project_root = os.path.dirname(os.path.dirname(os.path.abspath('')))\n",
    "ckpt_path = os.path.join(project_root, 'hidden/outputs/cifar10_test/checkpoint.pth')\n",
    "\n",
    "# load_state_dict\n",
    "state_dict = torch.load(ckpt_path, weights_only=False, map_location='cpu')['encoder_decoder']\n",
    "encoder_decoder_state_dict = {k.replace('module.', ''): v for k, v in state_dict.items()}\n",
    "encoder_state_dict = {k.replace('encoder.', ''): v for k, v in encoder_decoder_state_dict.items() if 'encoder' in k}\n",
    "decoder_state_dict = {k.replace('decoder.', ''): v for k, v in encoder_decoder_state_dict.items() if 'decoder' in k}\n",
    "\n",
    "encoder.load_state_dict(encoder_state_dict)\n",
    "decoder.load_state_dict(decoder_state_dict)\n",
    "\n",
    "decoder = decoder.to(params.device).eval()\n",
    "encoder = encoder.to(params.device).eval()"
   ],
   "outputs": [],
   "execution_count": 4
  },
  {
   "metadata": {},
   "cell_type": "markdown",
   "source": "### Load Images"
  },
  {
   "metadata": {
    "ExecuteTime": {
     "end_time": "2025-03-20T04:43:08.689296Z",
     "start_time": "2025-03-20T04:43:08.419803Z"
    }
   },
   "cell_type": "code",
   "source": [
    "from torchvision.datasets import CIFAR10\n",
    "\n",
    "dataset = CIFAR10(root=os.path.join(project_root, 'data'),\n",
    "                  train=False, download=False, transform=default_transform)\n",
    "print(f'Dataset size: {len(dataset)}')\n",
    "\n",
    "to_img = transforms.Compose([\n",
    "    DENORMALIZE,\n",
    "    transforms.Lambda(lambda x: x.detach().cpu().squeeze(0)),\n",
    "    transforms.ToPILImage(),\n",
    "])"
   ],
   "outputs": [
    {
     "name": "stdout",
     "output_type": "stream",
     "text": [
      "Dataset size: 10000\n"
     ]
    }
   ],
   "execution_count": 28
  },
  {
   "metadata": {
    "ExecuteTime": {
     "end_time": "2025-03-20T04:43:10.911426Z",
     "start_time": "2025-03-20T04:43:10.883876Z"
    }
   },
   "cell_type": "code",
   "source": [
    "# load random image\n",
    "id = torch.randint(0, len(dataset), (1,)).item()\n",
    "print(f'Loading image {id}')\n",
    "x = dataset[id][0].unsqueeze(0)\n",
    "img = to_img(x)\n",
    "\n",
    "# visualize\n",
    "fig, ax = plt.subplots(figsize=(4, 4))\n",
    "ax.imshow(np.asarray(img), vmin=0, vmax=255)\n",
    "ax.grid('off')\n",
    "ax.set_xticks([])\n",
    "ax.set_yticks([])\n",
    "ax.set_title('$x$')\n",
    "\n",
    "fig.tight_layout()\n",
    "plt.show()"
   ],
   "outputs": [
    {
     "name": "stdout",
     "output_type": "stream",
     "text": [
      "Loading image 3449\n"
     ]
    },
    {
     "data": {
      "text/plain": [
       "<Figure size 400x400 with 1 Axes>"
      ],
      "image/png": "[encoded data removed]"
     },
     "metadata": {},
     "output_type": "display_data"
    }
   ],
   "execution_count": 29
  },
  {
   "cell_type": "markdown",
   "metadata": {},
   "source": [
    "### Tests"
   ]
  },
  {
   "metadata": {
    "ExecuteTime": {
     "end_time": "2025-03-20T04:42:24.771830Z",
     "start_time": "2025-03-20T04:42:24.768295Z"
    }
   },
   "cell_type": "code",
   "source": [
    "def msg2str(m: torch.Tensor) -> str:\n",
    "    return ''.join([('1' if el else '0') for el in m.detach().cpu().bool()])\n",
    "\n",
    "\n",
    "def str2msg(m_str: str, device=None) -> torch.Tensor:\n",
    "    return torch.tensor([True if el == '1' else False for el in m_str], device=device)"
   ],
   "outputs": [],
   "execution_count": 8
  },
  {
   "cell_type": "code",
   "metadata": {
    "ExecuteTime": {
     "end_time": "2025-03-20T04:43:54.713668Z",
     "start_time": "2025-03-20T04:43:54.637520Z"
    }
   },
   "source": [
    "# load random image\n",
    "id = torch.randint(0, len(dataset), (1,)).item()\n",
    "x0, y = dataset[id]\n",
    "x0 = x0.unsqueeze(0).to(params.device)\n",
    "print(f'Image {id} - {y}')\n",
    "img = to_img(x0)\n",
    "\n",
    "# create message\n",
    "random_msg = True\n",
    "if random_msg:\n",
    "    m = torch.bernoulli(torch.full((x0.size(0), params.num_bits), 0.5, device=params.device)).bool()  # b k\n",
    "else:\n",
    "    m = str2msg('1110101101010001', device=params.device).unsqueeze(0)\n",
    "# cast to -1/1\n",
    "m_normalized = 2 * m.to(torch.float) - 1  # b k\n",
    "\n",
    "# encode\n",
    "x_w = encoder(x0, m_normalized)\n",
    "# img_w = to_img(torch.round(255 * torch.clamp(DENORMALIZE_MNIST(x_w), 0, 1)) / 255)\n",
    "img_w = Image.fromarray(\n",
    "    DENORMALIZE(x_w.squeeze(0)).squeeze().mul(255).clamp_(0, 255).permute((1, 2, 0)).to('cpu', torch.uint8).numpy(),\n",
    "    mode='RGB')\n",
    "\n",
    "# psnr\n",
    "psnr = peak_signal_noise_ratio(np.asarray(img), np.asarray(img_w))\n",
    "print(f'PSNR: {psnr:.05f}')\n",
    "\n",
    "# decode\n",
    "m_hat = decoder(x_w)\n",
    "ori_msgs = torch.sign(m) > 0\n",
    "decoded_msgs = torch.sign(m_hat) > 0  # b k -> b k\n",
    "print(f'Message: {msg2str(ori_msgs.squeeze(0))}')\n",
    "print(f'Decoded: {msg2str(decoded_msgs.squeeze(0))}')\n",
    "print(f'Bit Accuracy: {torch.eq(ori_msgs, decoded_msgs).sum().item() / params.num_bits:.05f}')\n",
    "\n",
    "# visualize\n",
    "fig, axes = plt.subplots(1, 3, figsize=(6, 2))\n",
    "axes = axes.flatten()\n",
    "axes[0].imshow(np.asarray(img), vmin=0, vmax=255)\n",
    "axes[0].grid('off')\n",
    "axes[0].set_xticks([])\n",
    "axes[0].set_yticks([])\n",
    "axes[0].set_title('$x_0$')\n",
    "\n",
    "axes[1].imshow(np.asarray(img_w), vmin=0, vmax=255)\n",
    "axes[1].grid('off')\n",
    "axes[1].set_xticks([])\n",
    "axes[1].set_yticks([])\n",
    "axes[1].set_title('$x_w$')\n",
    "\n",
    "magnitude = 1\n",
    "diff_img = np.abs(np.asarray(img).astype(int) - np.asarray(img_w).astype(int)) * magnitude\n",
    "diff_img = np.clip(diff_img, 0, 255).astype(np.uint8)\n",
    "axes[2].imshow(diff_img, vmin=0, vmax=255)\n",
    "axes[2].grid('off')\n",
    "axes[2].set_xticks([])\n",
    "axes[2].set_yticks([])\n",
    "axes[2].set_title(f'${magnitude}|x_0 - x_w|$')\n",
    "\n",
    "fig.tight_layout()\n",
    "plt.show()"
   ],
   "outputs": [
    {
     "name": "stdout",
     "output_type": "stream",
     "text": [
      "Image 1850 - 1\n",
      "PSNR: 35.64264\n",
      "Message: 011101000110110001101001010111100001001000000000\n",
      "Decoded: 111111001111110001001100000111110001001000001101\n",
      "Bit Accuracy: 0.75000\n"
     ]
    },
    {
     "data": {
      "text/plain": [
       "<Figure size 600x200 with 3 Axes>"
      ],
      "image/png": "[encoded data removed]"
     },
     "metadata": {},
     "output_type": "display_data"
    }
   ],
   "execution_count": 57
  }
 ],
 "metadata": {
  "kernelspec": {
   "display_name": "stablesign",
   "language": "python",
   "name": "python3"
  },
  "language_info": {
   "codemirror_mode": {
    "name": "ipython",
    "version": 3
   },
   "file_extension": ".py",
   "mimetype": "text/x-python",
   "name": "python",
   "nbconvert_exporter": "python",
   "pygments_lexer": "ipython3",
   "version": "3.10.10"
  },
  "orig_nbformat": 4
 },
 "nbformat": 4,
 "nbformat_minor": 2
}
